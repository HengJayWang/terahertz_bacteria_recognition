{
 "cells": [
  {
   "cell_type": "markdown",
   "metadata": {
    "slideshow": {
     "slide_type": "-"
    }
   },
   "source": [
    "#  Import Library"
   ]
  },
  {
   "cell_type": "code",
   "execution_count": 2,
   "metadata": {
    "slideshow": {
     "slide_type": "-"
    }
   },
   "outputs": [],
   "source": [
    "import TeraHertz_Dataset\n",
    "import numpy as np\n",
    "import pandas as pd\n",
    "import keras.utils as utils\n",
    "from sklearn import preprocessing\n",
    "from sklearn.model_selection import train_test_split"
   ]
  },
  {
   "cell_type": "markdown",
   "metadata": {
    "collapsed": true
   },
   "source": [
    "# Data Preprocessing"
   ]
  },
  {
   "cell_type": "code",
   "execution_count": 3,
   "metadata": {},
   "outputs": [],
   "source": [
    "Input, Target = TeraHertz_Dataset.load_dataset()"
   ]
  },
  {
   "cell_type": "code",
   "execution_count": 4,
   "metadata": {},
   "outputs": [
    {
     "name": "stdout",
     "output_type": "stream",
     "text": [
      "Shape of Input:  (4200, 5074)\n",
      "Shape of Target:  (4200,)\n"
     ]
    }
   ],
   "source": [
    "print(\"Shape of Input: \", Input.shape)\n",
    "print(\"Shape of Target: \", Target.shape)"
   ]
  },
  {
   "cell_type": "code",
   "execution_count": 5,
   "metadata": {
    "collapsed": true
   },
   "outputs": [],
   "source": [
    "minmax_scale = preprocessing.MinMaxScaler(feature_range=(0, 1))\n",
    "Input_Normalize = minmax_scale.fit_transform(Input)"
   ]
  },
  {
   "cell_type": "code",
   "execution_count": 6,
   "metadata": {
    "collapsed": true
   },
   "outputs": [],
   "source": [
    "Target_OneHot = utils.to_categorical(Target)"
   ]
  },
  {
   "cell_type": "code",
   "execution_count": 7,
   "metadata": {
    "collapsed": true
   },
   "outputs": [],
   "source": [
    "X_train, X_test, y_train, y_test = train_test_split(Input_Normalize, Target_OneHot, \n",
    "                                                    test_size=0.2, random_state=36)"
   ]
  },
  {
   "cell_type": "code",
   "execution_count": 8,
   "metadata": {},
   "outputs": [
    {
     "name": "stdout",
     "output_type": "stream",
     "text": [
      "Training Data: \n",
      "  Feature Array:  (3360, 5074) \n",
      "  Target:  (3360, 2)\n",
      "Testing Data: \n",
      "  Feature Array:  (840, 5074) \n",
      "  Target:  (840, 2)\n"
     ]
    }
   ],
   "source": [
    "print(\"Training Data: \\n\", \" Feature Array: \", X_train.shape, \"\\n\",\n",
    "                           \" Target: \", y_train.shape)\n",
    "print(\"Testing Data: \\n\", \" Feature Array: \", X_test.shape, \"\\n\",\n",
    "                           \" Target: \", y_test.shape)"
   ]
  },
  {
   "cell_type": "code",
   "execution_count": 9,
   "metadata": {},
   "outputs": [
    {
     "data": {
      "text/plain": [
       "array([ 396.,  444.])"
      ]
     },
     "execution_count": 9,
     "metadata": {},
     "output_type": "execute_result"
    }
   ],
   "source": [
    "sum(y_test)"
   ]
  },
  {
   "cell_type": "markdown",
   "metadata": {},
   "source": [
    "# Create Model "
   ]
  },
  {
   "cell_type": "code",
   "execution_count": 10,
   "metadata": {
    "collapsed": true
   },
   "outputs": [],
   "source": [
    "from keras.models import Sequential\n",
    "from keras.layers import Dense,Dropout"
   ]
  },
  {
   "cell_type": "code",
   "execution_count": 11,
   "metadata": {
    "collapsed": true
   },
   "outputs": [],
   "source": [
    "model = Sequential()"
   ]
  },
  {
   "cell_type": "code",
   "execution_count": 12,
   "metadata": {
    "collapsed": true
   },
   "outputs": [],
   "source": [
    "model.add(Dense(units=2048, input_dim=5074, \n",
    "                kernel_initializer='uniform', \n",
    "                activation='relu'))"
   ]
  },
  {
   "cell_type": "code",
   "execution_count": 13,
   "metadata": {
    "collapsed": true
   },
   "outputs": [],
   "source": [
    "model.add(Dense(units=1024, \n",
    "                kernel_initializer='uniform', \n",
    "                activation='relu'))"
   ]
  },
  {
   "cell_type": "code",
   "execution_count": 14,
   "metadata": {
    "collapsed": true
   },
   "outputs": [],
   "source": [
    "model.add(Dense(units=512, \n",
    "                kernel_initializer='uniform',\n",
    "                activation='relu'))"
   ]
  },
  {
   "cell_type": "code",
   "execution_count": 15,
   "metadata": {
    "collapsed": true
   },
   "outputs": [],
   "source": [
    "model.add(Dense(units=256, \n",
    "                kernel_initializer='uniform',\n",
    "                activation='relu'))"
   ]
  },
  {
   "cell_type": "code",
   "execution_count": 16,
   "metadata": {
    "collapsed": true
   },
   "outputs": [],
   "source": [
    "model.add(Dense(units=128, \n",
    "                kernel_initializer='uniform',\n",
    "                activation='relu'))"
   ]
  },
  {
   "cell_type": "code",
   "execution_count": 17,
   "metadata": {
    "collapsed": true
   },
   "outputs": [],
   "source": [
    "model.add(Dense(2, activation='softmax'))"
   ]
  },
  {
   "cell_type": "code",
   "execution_count": 18,
   "metadata": {},
   "outputs": [
    {
     "name": "stdout",
     "output_type": "stream",
     "text": [
      "_________________________________________________________________\n",
      "Layer (type)                 Output Shape              Param #   \n",
      "=================================================================\n",
      "dense_1 (Dense)              (None, 2048)              10393600  \n",
      "_________________________________________________________________\n",
      "dense_2 (Dense)              (None, 1024)              2098176   \n",
      "_________________________________________________________________\n",
      "dense_3 (Dense)              (None, 512)               524800    \n",
      "_________________________________________________________________\n",
      "dense_4 (Dense)              (None, 256)               131328    \n",
      "_________________________________________________________________\n",
      "dense_5 (Dense)              (None, 128)               32896     \n",
      "_________________________________________________________________\n",
      "dense_6 (Dense)              (None, 2)                 258       \n",
      "=================================================================\n",
      "Total params: 13,181,058\n",
      "Trainable params: 13,181,058\n",
      "Non-trainable params: 0\n",
      "_________________________________________________________________\n",
      "None\n"
     ]
    }
   ],
   "source": [
    "print(model.summary())"
   ]
  },
  {
   "cell_type": "markdown",
   "metadata": {},
   "source": [
    "# Train model"
   ]
  },
  {
   "cell_type": "code",
   "execution_count": 19,
   "metadata": {
    "collapsed": true
   },
   "outputs": [],
   "source": [
    "model.compile(loss='binary_crossentropy', \n",
    "              optimizer='adam', metrics=['accuracy'])"
   ]
  },
  {
   "cell_type": "code",
   "execution_count": 20,
   "metadata": {},
   "outputs": [
    {
     "name": "stdout",
     "output_type": "stream",
     "text": [
      "Train on 3024 samples, validate on 336 samples\n",
      "Epoch 1/100\n",
      "3024/3024 [==============================] - 1s 413us/step - loss: 0.0373 - acc: 0.9854 - val_loss: 1.1138e-07 - val_acc: 1.0000\n",
      "Epoch 2/100\n",
      "3024/3024 [==============================] - 1s 241us/step - loss: 1.0961e-07 - acc: 1.0000 - val_loss: 1.1042e-07 - val_acc: 1.0000\n",
      "Epoch 3/100\n",
      "3024/3024 [==============================] - 1s 236us/step - loss: 1.0960e-07 - acc: 1.0000 - val_loss: 1.1029e-07 - val_acc: 1.0000\n",
      "Epoch 4/100\n",
      "3024/3024 [==============================] - 1s 236us/step - loss: 1.0960e-07 - acc: 1.0000 - val_loss: 1.1029e-07 - val_acc: 1.0000\n",
      "Epoch 5/100\n",
      "3024/3024 [==============================] - 1s 236us/step - loss: 1.0960e-07 - acc: 1.0000 - val_loss: 1.1029e-07 - val_acc: 1.0000\n",
      "Epoch 6/100\n",
      "3024/3024 [==============================] - 1s 241us/step - loss: 1.0960e-07 - acc: 1.0000 - val_loss: 1.1029e-07 - val_acc: 1.0000\n",
      "Epoch 7/100\n",
      "3024/3024 [==============================] - 1s 239us/step - loss: 1.0960e-07 - acc: 1.0000 - val_loss: 1.1029e-07 - val_acc: 1.0000\n",
      "Epoch 8/100\n",
      "3024/3024 [==============================] - 1s 233us/step - loss: 1.0960e-07 - acc: 1.0000 - val_loss: 1.1029e-07 - val_acc: 1.0000\n",
      "Epoch 9/100\n",
      "3024/3024 [==============================] - 1s 236us/step - loss: 1.0960e-07 - acc: 1.0000 - val_loss: 1.1029e-07 - val_acc: 1.0000\n",
      "Epoch 10/100\n",
      "3024/3024 [==============================] - 1s 245us/step - loss: 1.0960e-07 - acc: 1.0000 - val_loss: 1.1029e-07 - val_acc: 1.0000\n",
      "Epoch 11/100\n",
      "3024/3024 [==============================] - 1s 235us/step - loss: 1.0960e-07 - acc: 1.0000 - val_loss: 1.1029e-07 - val_acc: 1.0000\n",
      "Epoch 12/100\n",
      "3024/3024 [==============================] - 1s 235us/step - loss: 1.0960e-07 - acc: 1.0000 - val_loss: 1.1029e-07 - val_acc: 1.0000\n",
      "Epoch 13/100\n",
      "3024/3024 [==============================] - 1s 237us/step - loss: 1.0960e-07 - acc: 1.0000 - val_loss: 1.1029e-07 - val_acc: 1.0000\n",
      "Epoch 14/100\n",
      "3024/3024 [==============================] - 1s 236us/step - loss: 1.0960e-07 - acc: 1.0000 - val_loss: 1.1029e-07 - val_acc: 1.0000\n",
      "Epoch 15/100\n",
      "3024/3024 [==============================] - 1s 238us/step - loss: 1.0960e-07 - acc: 1.0000 - val_loss: 1.1029e-07 - val_acc: 1.0000\n",
      "Epoch 16/100\n",
      "3024/3024 [==============================] - 1s 238us/step - loss: 1.0960e-07 - acc: 1.0000 - val_loss: 1.1029e-07 - val_acc: 1.0000\n",
      "Epoch 17/100\n",
      "3024/3024 [==============================] - 1s 241us/step - loss: 1.0960e-07 - acc: 1.0000 - val_loss: 1.1029e-07 - val_acc: 1.0000\n",
      "Epoch 18/100\n",
      "3024/3024 [==============================] - 1s 240us/step - loss: 1.0960e-07 - acc: 1.0000 - val_loss: 1.1029e-07 - val_acc: 1.0000\n",
      "Epoch 19/100\n",
      "3024/3024 [==============================] - 1s 242us/step - loss: 1.0960e-07 - acc: 1.0000 - val_loss: 1.1029e-07 - val_acc: 1.0000\n",
      "Epoch 20/100\n",
      "3024/3024 [==============================] - 1s 238us/step - loss: 1.0960e-07 - acc: 1.0000 - val_loss: 1.1029e-07 - val_acc: 1.0000\n",
      "Epoch 21/100\n",
      "3024/3024 [==============================] - 1s 243us/step - loss: 1.0960e-07 - acc: 1.0000 - val_loss: 1.1029e-07 - val_acc: 1.0000\n",
      "Epoch 22/100\n",
      "3024/3024 [==============================] - 1s 248us/step - loss: 1.0960e-07 - acc: 1.0000 - val_loss: 1.1029e-07 - val_acc: 1.0000\n",
      "Epoch 23/100\n",
      "3024/3024 [==============================] - 1s 249us/step - loss: 1.0960e-07 - acc: 1.0000 - val_loss: 1.1029e-07 - val_acc: 1.0000\n",
      "Epoch 24/100\n",
      "3024/3024 [==============================] - 1s 252us/step - loss: 1.0960e-07 - acc: 1.0000 - val_loss: 1.1029e-07 - val_acc: 1.0000\n",
      "Epoch 25/100\n",
      "3024/3024 [==============================] - 1s 251us/step - loss: 1.0960e-07 - acc: 1.0000 - val_loss: 1.1029e-07 - val_acc: 1.0000\n",
      "Epoch 26/100\n",
      "3024/3024 [==============================] - 1s 245us/step - loss: 1.0960e-07 - acc: 1.0000 - val_loss: 1.1029e-07 - val_acc: 1.0000\n",
      "Epoch 27/100\n",
      "3024/3024 [==============================] - 1s 236us/step - loss: 1.0960e-07 - acc: 1.0000 - val_loss: 1.1029e-07 - val_acc: 1.0000\n",
      "Epoch 28/100\n",
      "3024/3024 [==============================] - 1s 237us/step - loss: 1.0960e-07 - acc: 1.0000 - val_loss: 1.1029e-07 - val_acc: 1.0000\n",
      "Epoch 29/100\n",
      "3024/3024 [==============================] - 1s 239us/step - loss: 1.0960e-07 - acc: 1.0000 - val_loss: 1.1029e-07 - val_acc: 1.0000\n",
      "Epoch 30/100\n",
      "3024/3024 [==============================] - 1s 236us/step - loss: 1.0960e-07 - acc: 1.0000 - val_loss: 1.1029e-07 - val_acc: 1.0000\n",
      "Epoch 31/100\n",
      "3024/3024 [==============================] - 1s 239us/step - loss: 1.0960e-07 - acc: 1.0000 - val_loss: 1.1029e-07 - val_acc: 1.0000\n",
      "Epoch 32/100\n",
      "3024/3024 [==============================] - 1s 250us/step - loss: 1.0960e-07 - acc: 1.0000 - val_loss: 1.1029e-07 - val_acc: 1.0000\n",
      "Epoch 33/100\n",
      "3024/3024 [==============================] - 1s 245us/step - loss: 1.0960e-07 - acc: 1.0000 - val_loss: 1.1029e-07 - val_acc: 1.0000\n",
      "Epoch 34/100\n",
      "3024/3024 [==============================] - 1s 236us/step - loss: 1.0960e-07 - acc: 1.0000 - val_loss: 1.1029e-07 - val_acc: 1.0000\n",
      "Epoch 35/100\n",
      "3024/3024 [==============================] - 1s 237us/step - loss: 1.0960e-07 - acc: 1.0000 - val_loss: 1.1029e-07 - val_acc: 1.0000\n",
      "Epoch 36/100\n",
      "3024/3024 [==============================] - 1s 237us/step - loss: 1.0960e-07 - acc: 1.0000 - val_loss: 1.1029e-07 - val_acc: 1.0000\n",
      "Epoch 37/100\n",
      "3024/3024 [==============================] - 1s 241us/step - loss: 1.0960e-07 - acc: 1.0000 - val_loss: 1.1029e-07 - val_acc: 1.0000\n",
      "Epoch 38/100\n",
      "3024/3024 [==============================] - 1s 236us/step - loss: 1.0960e-07 - acc: 1.0000 - val_loss: 1.1029e-07 - val_acc: 1.0000\n",
      "Epoch 39/100\n",
      "3024/3024 [==============================] - 1s 238us/step - loss: 1.0960e-07 - acc: 1.0000 - val_loss: 1.1029e-07 - val_acc: 1.0000\n",
      "Epoch 40/100\n",
      "3024/3024 [==============================] - 1s 243us/step - loss: 1.0960e-07 - acc: 1.0000 - val_loss: 1.1029e-07 - val_acc: 1.0000\n",
      "Epoch 41/100\n",
      "3024/3024 [==============================] - 1s 254us/step - loss: 1.0960e-07 - acc: 1.0000 - val_loss: 1.1029e-07 - val_acc: 1.0000\n",
      "Epoch 42/100\n",
      "3024/3024 [==============================] - 1s 246us/step - loss: 1.0960e-07 - acc: 1.0000 - val_loss: 1.1029e-07 - val_acc: 1.0000\n",
      "Epoch 43/100\n",
      "3024/3024 [==============================] - 1s 243us/step - loss: 1.0960e-07 - acc: 1.0000 - val_loss: 1.1029e-07 - val_acc: 1.0000\n",
      "Epoch 44/100\n",
      "3024/3024 [==============================] - 1s 232us/step - loss: 1.0960e-07 - acc: 1.0000 - val_loss: 1.1029e-07 - val_acc: 1.0000\n",
      "Epoch 45/100\n",
      "3024/3024 [==============================] - 1s 244us/step - loss: 1.0960e-07 - acc: 1.0000 - val_loss: 1.1029e-07 - val_acc: 1.0000\n",
      "Epoch 46/100\n",
      "3024/3024 [==============================] - 1s 252us/step - loss: 1.0960e-07 - acc: 1.0000 - val_loss: 1.1029e-07 - val_acc: 1.0000\n",
      "Epoch 47/100\n",
      "3024/3024 [==============================] - 1s 241us/step - loss: 1.0960e-07 - acc: 1.0000 - val_loss: 1.1029e-07 - val_acc: 1.0000\n",
      "Epoch 48/100\n",
      "3024/3024 [==============================] - 1s 255us/step - loss: 1.0960e-07 - acc: 1.0000 - val_loss: 1.1029e-07 - val_acc: 1.0000\n",
      "Epoch 49/100\n",
      "3024/3024 [==============================] - 1s 241us/step - loss: 1.0960e-07 - acc: 1.0000 - val_loss: 1.1029e-07 - val_acc: 1.0000\n",
      "Epoch 50/100\n",
      "3024/3024 [==============================] - 1s 237us/step - loss: 1.0960e-07 - acc: 1.0000 - val_loss: 1.1029e-07 - val_acc: 1.0000\n",
      "Epoch 51/100\n",
      "3024/3024 [==============================] - 1s 241us/step - loss: 1.0960e-07 - acc: 1.0000 - val_loss: 1.1029e-07 - val_acc: 1.0000\n",
      "Epoch 52/100\n",
      "3024/3024 [==============================] - 1s 242us/step - loss: 1.0960e-07 - acc: 1.0000 - val_loss: 1.1029e-07 - val_acc: 1.0000\n",
      "Epoch 53/100\n",
      "3024/3024 [==============================] - 1s 241us/step - loss: 1.0960e-07 - acc: 1.0000 - val_loss: 1.1029e-07 - val_acc: 1.0000\n",
      "Epoch 54/100\n",
      "3024/3024 [==============================] - 1s 244us/step - loss: 1.0960e-07 - acc: 1.0000 - val_loss: 1.1029e-07 - val_acc: 1.0000\n",
      "Epoch 55/100\n",
      "3024/3024 [==============================] - 1s 243us/step - loss: 1.0960e-07 - acc: 1.0000 - val_loss: 1.1029e-07 - val_acc: 1.0000\n",
      "Epoch 56/100\n",
      "3024/3024 [==============================] - 1s 241us/step - loss: 1.0960e-07 - acc: 1.0000 - val_loss: 1.1029e-07 - val_acc: 1.0000\n"
     ]
    },
    {
     "name": "stdout",
     "output_type": "stream",
     "text": [
      "Epoch 57/100\n",
      "3024/3024 [==============================] - 1s 241us/step - loss: 1.0960e-07 - acc: 1.0000 - val_loss: 1.1029e-07 - val_acc: 1.0000\n",
      "Epoch 58/100\n",
      "3024/3024 [==============================] - 1s 240us/step - loss: 1.0960e-07 - acc: 1.0000 - val_loss: 1.1029e-07 - val_acc: 1.0000\n",
      "Epoch 59/100\n",
      "3024/3024 [==============================] - 1s 241us/step - loss: 1.0960e-07 - acc: 1.0000 - val_loss: 1.1029e-07 - val_acc: 1.0000\n",
      "Epoch 60/100\n",
      "3024/3024 [==============================] - 1s 237us/step - loss: 1.0960e-07 - acc: 1.0000 - val_loss: 1.1029e-07 - val_acc: 1.0000\n",
      "Epoch 61/100\n",
      "3024/3024 [==============================] - 1s 243us/step - loss: 1.0960e-07 - acc: 1.0000 - val_loss: 1.1029e-07 - val_acc: 1.0000\n",
      "Epoch 62/100\n",
      "3024/3024 [==============================] - 1s 240us/step - loss: 1.0960e-07 - acc: 1.0000 - val_loss: 1.1029e-07 - val_acc: 1.0000\n",
      "Epoch 63/100\n",
      "3024/3024 [==============================] - 1s 233us/step - loss: 1.0960e-07 - acc: 1.0000 - val_loss: 1.1029e-07 - val_acc: 1.0000\n",
      "Epoch 64/100\n",
      "3024/3024 [==============================] - 1s 238us/step - loss: 1.0960e-07 - acc: 1.0000 - val_loss: 1.1029e-07 - val_acc: 1.0000\n",
      "Epoch 65/100\n",
      "3024/3024 [==============================] - 1s 235us/step - loss: 1.0960e-07 - acc: 1.0000 - val_loss: 1.1029e-07 - val_acc: 1.0000\n",
      "Epoch 66/100\n",
      "3024/3024 [==============================] - 1s 242us/step - loss: 1.0960e-07 - acc: 1.0000 - val_loss: 1.1029e-07 - val_acc: 1.0000\n",
      "Epoch 67/100\n",
      "3024/3024 [==============================] - 1s 240us/step - loss: 1.0960e-07 - acc: 1.0000 - val_loss: 1.1029e-07 - val_acc: 1.0000\n",
      "Epoch 68/100\n",
      "3024/3024 [==============================] - 1s 234us/step - loss: 1.0960e-07 - acc: 1.0000 - val_loss: 1.1029e-07 - val_acc: 1.0000\n",
      "Epoch 69/100\n",
      "3024/3024 [==============================] - 1s 250us/step - loss: 1.0960e-07 - acc: 1.0000 - val_loss: 1.1029e-07 - val_acc: 1.0000\n",
      "Epoch 70/100\n",
      "3024/3024 [==============================] - 1s 246us/step - loss: 1.0960e-07 - acc: 1.0000 - val_loss: 1.1029e-07 - val_acc: 1.0000\n",
      "Epoch 71/100\n",
      "3024/3024 [==============================] - 1s 244us/step - loss: 1.0960e-07 - acc: 1.0000 - val_loss: 1.1029e-07 - val_acc: 1.0000\n",
      "Epoch 72/100\n",
      "3024/3024 [==============================] - 1s 241us/step - loss: 1.0960e-07 - acc: 1.0000 - val_loss: 1.1029e-07 - val_acc: 1.0000\n",
      "Epoch 73/100\n",
      "3024/3024 [==============================] - 1s 241us/step - loss: 1.0960e-07 - acc: 1.0000 - val_loss: 1.1029e-07 - val_acc: 1.0000\n",
      "Epoch 74/100\n",
      "3024/3024 [==============================] - 1s 240us/step - loss: 1.0960e-07 - acc: 1.0000 - val_loss: 1.1029e-07 - val_acc: 1.0000\n",
      "Epoch 75/100\n",
      "3024/3024 [==============================] - 1s 242us/step - loss: 1.0960e-07 - acc: 1.0000 - val_loss: 1.1029e-07 - val_acc: 1.0000\n",
      "Epoch 76/100\n",
      "3024/3024 [==============================] - 1s 239us/step - loss: 1.0960e-07 - acc: 1.0000 - val_loss: 1.1029e-07 - val_acc: 1.0000\n",
      "Epoch 77/100\n",
      "3024/3024 [==============================] - 1s 240us/step - loss: 1.0960e-07 - acc: 1.0000 - val_loss: 1.1029e-07 - val_acc: 1.0000\n",
      "Epoch 78/100\n",
      "3024/3024 [==============================] - 1s 236us/step - loss: 1.0960e-07 - acc: 1.0000 - val_loss: 1.1029e-07 - val_acc: 1.0000\n",
      "Epoch 79/100\n",
      "3024/3024 [==============================] - 1s 242us/step - loss: 1.0960e-07 - acc: 1.0000 - val_loss: 1.1029e-07 - val_acc: 1.0000\n",
      "Epoch 80/100\n",
      "3024/3024 [==============================] - 1s 238us/step - loss: 1.0960e-07 - acc: 1.0000 - val_loss: 1.1029e-07 - val_acc: 1.0000\n",
      "Epoch 81/100\n",
      "3024/3024 [==============================] - 1s 242us/step - loss: 1.0960e-07 - acc: 1.0000 - val_loss: 1.1029e-07 - val_acc: 1.0000\n",
      "Epoch 82/100\n",
      "3024/3024 [==============================] - 1s 244us/step - loss: 1.0960e-07 - acc: 1.0000 - val_loss: 1.1029e-07 - val_acc: 1.0000\n",
      "Epoch 83/100\n",
      "3024/3024 [==============================] - 1s 243us/step - loss: 1.0960e-07 - acc: 1.0000 - val_loss: 1.1029e-07 - val_acc: 1.0000\n",
      "Epoch 84/100\n",
      "3024/3024 [==============================] - 1s 238us/step - loss: 1.0960e-07 - acc: 1.0000 - val_loss: 1.1029e-07 - val_acc: 1.0000\n",
      "Epoch 85/100\n",
      "3024/3024 [==============================] - 1s 237us/step - loss: 1.0960e-07 - acc: 1.0000 - val_loss: 1.1029e-07 - val_acc: 1.0000\n",
      "Epoch 86/100\n",
      "3024/3024 [==============================] - 1s 239us/step - loss: 1.0960e-07 - acc: 1.0000 - val_loss: 1.1029e-07 - val_acc: 1.0000\n",
      "Epoch 87/100\n",
      "3024/3024 [==============================] - 1s 238us/step - loss: 1.0960e-07 - acc: 1.0000 - val_loss: 1.1029e-07 - val_acc: 1.0000\n",
      "Epoch 88/100\n",
      "3024/3024 [==============================] - 1s 245us/step - loss: 1.0960e-07 - acc: 1.0000 - val_loss: 1.1029e-07 - val_acc: 1.0000\n",
      "Epoch 89/100\n",
      "3024/3024 [==============================] - 1s 242us/step - loss: 1.0960e-07 - acc: 1.0000 - val_loss: 1.1029e-07 - val_acc: 1.0000\n",
      "Epoch 90/100\n",
      "3024/3024 [==============================] - 1s 237us/step - loss: 1.0960e-07 - acc: 1.0000 - val_loss: 1.1029e-07 - val_acc: 1.0000\n",
      "Epoch 91/100\n",
      "3024/3024 [==============================] - 1s 239us/step - loss: 1.0960e-07 - acc: 1.0000 - val_loss: 1.1029e-07 - val_acc: 1.0000\n",
      "Epoch 92/100\n",
      "3024/3024 [==============================] - 1s 239us/step - loss: 1.0960e-07 - acc: 1.0000 - val_loss: 1.1029e-07 - val_acc: 1.0000\n",
      "Epoch 93/100\n",
      "3024/3024 [==============================] - 1s 236us/step - loss: 1.0960e-07 - acc: 1.0000 - val_loss: 1.1029e-07 - val_acc: 1.0000\n",
      "Epoch 94/100\n",
      "3024/3024 [==============================] - 1s 238us/step - loss: 1.0960e-07 - acc: 1.0000 - val_loss: 1.1029e-07 - val_acc: 1.0000\n",
      "Epoch 95/100\n",
      "3024/3024 [==============================] - 1s 240us/step - loss: 1.0960e-07 - acc: 1.0000 - val_loss: 1.1029e-07 - val_acc: 1.0000\n",
      "Epoch 96/100\n",
      "3024/3024 [==============================] - 1s 236us/step - loss: 1.0960e-07 - acc: 1.0000 - val_loss: 1.1029e-07 - val_acc: 1.0000\n",
      "Epoch 97/100\n",
      "3024/3024 [==============================] - 1s 242us/step - loss: 1.0960e-07 - acc: 1.0000 - val_loss: 1.1029e-07 - val_acc: 1.0000\n",
      "Epoch 98/100\n",
      "3024/3024 [==============================] - 1s 236us/step - loss: 1.0960e-07 - acc: 1.0000 - val_loss: 1.1029e-07 - val_acc: 1.0000\n",
      "Epoch 99/100\n",
      "3024/3024 [==============================] - 1s 247us/step - loss: 1.0960e-07 - acc: 1.0000 - val_loss: 1.1029e-07 - val_acc: 1.0000\n",
      "Epoch 100/100\n",
      "3024/3024 [==============================] - 1s 236us/step - loss: 1.0960e-07 - acc: 1.0000 - val_loss: 1.1029e-07 - val_acc: 1.0000\n"
     ]
    }
   ],
   "source": [
    "train_history =model.fit(X_train, \n",
    "                         y_train, \n",
    "                         validation_split=0.1, \n",
    "                         epochs=100, \n",
    "                         batch_size=30,verbose=1)"
   ]
  },
  {
   "cell_type": "markdown",
   "metadata": {},
   "source": [
    "# Print History"
   ]
  },
  {
   "cell_type": "code",
   "execution_count": 21,
   "metadata": {
    "collapsed": true
   },
   "outputs": [],
   "source": [
    "import matplotlib.pyplot as plt\n",
    "def show_train_history(train_history,train,validation):\n",
    "    plt.plot(train_history.history[train])\n",
    "    plt.plot(train_history.history[validation])\n",
    "    plt.title('Train History')\n",
    "    plt.ylabel(train)\n",
    "    plt.xlabel('Epoch')\n",
    "    plt.legend(['train', 'validation'], loc='upper left')\n",
    "    plt.show()"
   ]
  },
  {
   "cell_type": "code",
   "execution_count": 22,
   "metadata": {},
   "outputs": [
    {
     "data": {
      "image/png": "[encoded data removed]",
      "text/plain": [
       "<matplotlib.figure.Figure at 0x7f6b97bddcf8>"
      ]
     },
     "metadata": {},
     "output_type": "display_data"
    }
   ],
   "source": [
    "show_train_history(train_history,'acc','val_acc')"
   ]
  },
  {
   "cell_type": "code",
   "execution_count": 23,
   "metadata": {},
   "outputs": [
    {
     "data": {
      "image/png": "[encoded data removed]",
      "text/plain": [
       "<matplotlib.figure.Figure at 0x7f6858cb7278>"
      ]
     },
     "metadata": {},
     "output_type": "display_data"
    }
   ],
   "source": [
    "show_train_history(train_history,'loss','val_loss')"
   ]
  },
  {
   "cell_type": "markdown",
   "metadata": {},
   "source": [
    "# Evaluation Accuracy"
   ]
  },
  {
   "cell_type": "code",
   "execution_count": 24,
   "metadata": {},
   "outputs": [
    {
     "name": "stdout",
     "output_type": "stream",
     "text": [
      "840/840 [==============================] - 0s 38us/step\n"
     ]
    }
   ],
   "source": [
    "scores = model.evaluate(X_test, \n",
    "                        y_test)"
   ]
  },
  {
   "cell_type": "code",
   "execution_count": 25,
   "metadata": {},
   "outputs": [
    {
     "data": {
      "text/plain": [
       "1.0"
      ]
     },
     "execution_count": 25,
     "metadata": {},
     "output_type": "execute_result"
    }
   ],
   "source": [
    "scores[1]"
   ]
  },
  {
   "cell_type": "code",
   "execution_count": 26,
   "metadata": {
    "collapsed": true
   },
   "outputs": [],
   "source": [
    "model.save('Keras_Terahertz_1061211.h5')"
   ]
  }
 ],
 "metadata": {
  "anaconda-cloud": {},
  "kernelspec": {
   "display_name": "Python 3",
   "language": "python",
   "name": "python3"
  },
  "language_info": {
   "codemirror_mode": {
    "name": "ipython",
    "version": 3
   },
   "file_extension": ".py",
   "mimetype": "text/x-python",
   "name": "python",
   "nbconvert_exporter": "python",
   "pygments_lexer": "ipython3",
   "version": "3.6.3"
  }
 },
 "nbformat": 4,
 "nbformat_minor": 1
}
